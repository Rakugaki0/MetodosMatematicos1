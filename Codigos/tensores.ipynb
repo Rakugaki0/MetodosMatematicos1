{
 "cells": [
  {
   "cell_type": "markdown",
   "metadata": {},
   "source": [
    "Jhonatan S. Blanco - 2211497\n",
    "\n",
    "Angie Y. Sandoval - 2210728"
   ]
  },
  {
   "cell_type": "code",
   "execution_count": 1,
   "metadata": {},
   "outputs": [],
   "source": [
    "M = FiniteRankFreeModule(QQ, 3, name='M')\n",
    "e = M.basis('e')\n",
    "\n",
    "R = M.tensor((1,1), name='R')\n",
    "T = M.tensor((1,0), name = \"T\")\n",
    "Tc = M.tensor((0,1), name = \"Tc\")\n",
    "g = M.tensor((2,0), name = \"g\")\n",
    "gc = M.tensor((0,2), name = \"gc\")\n",
    "\n",
    "\n",
    "R[:] = [[1/2, 1, 3/2],\n",
    "        [2, 5/2, 3],\n",
    "        [7/2, 4, 9/2]]\n",
    "\n",
    "T[:] = Tc[:] = [1/3, 2/3, 1]\n",
    "\n",
    "g[:] = gc[:] = [[1,0,0],[0, -1, 0], [0, 0, 1]]\n"
   ]
  },
  {
   "cell_type": "markdown",
   "metadata": {},
   "source": [
    "Parte simetrica $S^i_j$ y la antisimetrica $A^i_j$ de $R^i_j$."
   ]
  },
  {
   "cell_type": "code",
   "execution_count": 2,
   "metadata": {},
   "outputs": [],
   "source": [
    "S1 = [[0,0,0],[0,0,0], [0,0,0]]\n",
    "A1 = [[0,0,0],[0,0,0], [0,0,0]]\n",
    "for i in range(3):\n",
    "    for j in range(3):\n",
    "        S1[i][j] = (R[i,j] + R[j,i]) / 2\n",
    "        A1[i][j] = (R[i,j] - R[j,i]) / 2\n",
    "\n",
    "\n",
    "S = M.tensor((1,1), name='S')\n",
    "A = M.tensor((1,1), name = \"A\")\n",
    "\n",
    "S[:] = S1; A[:] = A1\n"
   ]
  },
  {
   "cell_type": "code",
   "execution_count": 3,
   "metadata": {},
   "outputs": [
    {
     "data": {
      "text/plain": [
       "[1/2 3/2 5/2]\n",
       "[3/2 5/2 7/2]\n",
       "[5/2 7/2 9/2]"
      ]
     },
     "execution_count": 3,
     "metadata": {},
     "output_type": "execute_result"
    }
   ],
   "source": [
    "S[:] #Parte Simetrica"
   ]
  },
  {
   "cell_type": "code",
   "execution_count": 4,
   "metadata": {},
   "outputs": [
    {
     "data": {
      "text/plain": [
       "[   0 -1/2   -1]\n",
       "[ 1/2    0 -1/2]\n",
       "[   1  1/2    0]"
      ]
     },
     "execution_count": 4,
     "metadata": {},
     "output_type": "execute_result"
    }
   ],
   "source": [
    "A[:] #Parte Antisimetrica"
   ]
  },
  {
   "cell_type": "markdown",
   "metadata": {},
   "source": [
    "$R_{kj} = g_{ik}R^i_j, R^{ki} = g^{jk}R^i_j, T_j = g_{ij}T^i$"
   ]
  },
  {
   "cell_type": "code",
   "execution_count": 5,
   "metadata": {},
   "outputs": [],
   "source": [
    "from sage.tensor.modules.tensor_with_indices import TensorWithIndices\n",
    "\n",
    "T = TensorWithIndices(T, \"j\")\n",
    "R = TensorWithIndices(R, \"j_i\")\n",
    "S = TensorWithIndices(S, \"j_i\")\n",
    "A = TensorWithIndices(A, \"j_i\")\n",
    "g = TensorWithIndices(g, \"ij\")\n",
    "gc = TensorWithIndices(gc, \"_ij\")\n"
   ]
  },
  {
   "cell_type": "code",
   "execution_count": 6,
   "metadata": {},
   "outputs": [
    {
     "data": {
      "text/plain": [
       "(Type-(0,2) tensor on the 3-dimensional vector space M over the Rational Field,\n",
       " Type-(2,0) tensor on the 3-dimensional vector space M over the Rational Field,\n",
       " Linear form on the 3-dimensional vector space M over the Rational Field)"
      ]
     },
     "execution_count": 6,
     "metadata": {},
     "output_type": "execute_result"
    }
   ],
   "source": [
    "gc[\"_ik\"]*R[\"i_j\"], (g[\"jk\"]*R[\"i_j\"]), (gc[\"_ij\"]*T[\"i\"])"
   ]
  },
  {
   "cell_type": "code",
   "execution_count": 7,
   "metadata": {},
   "outputs": [
    {
     "data": {
      "text/plain": [
       "[ 1/2    1  3/2]\n",
       "[  -2 -5/2   -3]\n",
       "[ 7/2    4  9/2]"
      ]
     },
     "execution_count": 7,
     "metadata": {},
     "output_type": "execute_result"
    }
   ],
   "source": [
    "(gc[\"_ik\"]*R[\"i_j\"])[:]"
   ]
  },
  {
   "cell_type": "code",
   "execution_count": 8,
   "metadata": {},
   "outputs": [
    {
     "data": {
      "text/plain": [
       "[ 1/2    2  7/2]\n",
       "[  -1 -5/2   -4]\n",
       "[ 3/2    3  9/2]"
      ]
     },
     "execution_count": 8,
     "metadata": {},
     "output_type": "execute_result"
    }
   ],
   "source": [
    "(g[\"jk\"]*R[\"i_j\"])[:]"
   ]
  },
  {
   "cell_type": "code",
   "execution_count": 9,
   "metadata": {},
   "outputs": [
    {
     "data": {
      "text/plain": [
       "[1/3, -2/3, 1]"
      ]
     },
     "execution_count": 9,
     "metadata": {},
     "output_type": "execute_result"
    }
   ],
   "source": [
    "(gc[\"_ij\"]*T[\"i\"])[:]"
   ]
  },
  {
   "cell_type": "markdown",
   "metadata": {},
   "source": [
    "$c) R^i_jT_i,  R^i_jT^j,  R^i_jT_iT^j$"
   ]
  },
  {
   "cell_type": "code",
   "execution_count": 10,
   "metadata": {},
   "outputs": [
    {
     "data": {
      "text/plain": [
       "(Linear form on the 3-dimensional vector space M over the Rational Field,\n",
       " Element of the 3-dimensional vector space M over the Rational Field)"
      ]
     },
     "execution_count": 10,
     "metadata": {},
     "output_type": "execute_result"
    }
   ],
   "source": [
    "R[\"i_j\"]*Tc[\"_i\"], R[\"i_j\"]*T[\"j\"]"
   ]
  },
  {
   "cell_type": "code",
   "execution_count": 11,
   "metadata": {},
   "outputs": [
    {
     "data": {
      "text/plain": [
       "[5, 6, 7]"
      ]
     },
     "execution_count": 11,
     "metadata": {},
     "output_type": "execute_result"
    }
   ],
   "source": [
    "(R[\"i_j\"]*Tc[\"_i\"])[:]"
   ]
  },
  {
   "cell_type": "code",
   "execution_count": 12,
   "metadata": {},
   "outputs": [
    {
     "data": {
      "text/plain": [
       "[7/3, 16/3, 25/3]"
      ]
     },
     "execution_count": 12,
     "metadata": {},
     "output_type": "execute_result"
    }
   ],
   "source": [
    "(R[\"i_j\"]*T[\"j\"])[:]"
   ]
  },
  {
   "cell_type": "code",
   "execution_count": 13,
   "metadata": {},
   "outputs": [
    {
     "data": {
      "text/plain": [
       "38/3"
      ]
     },
     "execution_count": 13,
     "metadata": {},
     "output_type": "execute_result"
    }
   ],
   "source": [
    "P = (R[\"i_j\"]*Tc[\"_i\"])\n",
    "P[\"_j\"] * T[\"j\"]"
   ]
  },
  {
   "cell_type": "markdown",
   "metadata": {},
   "source": [
    "d) $R^i_jS^j_i, R^i_jA^j_i, A^j_iT^i, A^j_iT^iT_j$"
   ]
  },
  {
   "cell_type": "code",
   "execution_count": 14,
   "metadata": {},
   "outputs": [
    {
     "data": {
      "text/plain": [
       "273/4"
      ]
     },
     "execution_count": 14,
     "metadata": {},
     "output_type": "execute_result"
    }
   ],
   "source": [
    "R[\"i_j\"]*S[\"j_i\"]"
   ]
  },
  {
   "cell_type": "code",
   "execution_count": 15,
   "metadata": {},
   "outputs": [
    {
     "data": {
      "text/plain": [
       "-3"
      ]
     },
     "execution_count": 15,
     "metadata": {},
     "output_type": "execute_result"
    }
   ],
   "source": [
    "R[\"i_j\"]*A[\"j_i\"]"
   ]
  },
  {
   "cell_type": "code",
   "execution_count": 16,
   "metadata": {},
   "outputs": [
    {
     "data": {
      "text/plain": [
       "[-4/3, -1/3, 2/3]"
      ]
     },
     "execution_count": 16,
     "metadata": {},
     "output_type": "execute_result"
    }
   ],
   "source": [
    "(A[\"j_i\"]*T[\"i\"])[:]"
   ]
  },
  {
   "cell_type": "code",
   "execution_count": 17,
   "metadata": {},
   "outputs": [
    {
     "data": {
      "text/plain": [
       "0"
      ]
     },
     "execution_count": 17,
     "metadata": {},
     "output_type": "execute_result"
    }
   ],
   "source": [
    "(A[\"j_i\"]*T[\"i\"])[\"j\"]*Tc[\"_j\"]"
   ]
  },
  {
   "cell_type": "code",
   "execution_count": null,
   "metadata": {},
   "outputs": [],
   "source": []
  }
 ],
 "metadata": {
  "kernelspec": {
   "display_name": "SageMath 9.5",
   "language": "sage",
   "name": "sagemath-dev"
  },
  "language_info": {
   "codemirror_mode": {
    "name": "ipython",
    "version": 3
   },
   "file_extension": ".py",
   "mimetype": "text/x-python",
   "name": "python",
   "nbconvert_exporter": "python",
   "pygments_lexer": "ipython3",
   "version": "3.10.6"
  },
  "orig_nbformat": 4,
  "vscode": {
   "interpreter": {
    "hash": "916dbcbb3f70747c44a77c7bcd40155683ae19c65e1c03b4aa3499c5328201f1"
   }
  }
 },
 "nbformat": 4,
 "nbformat_minor": 2
}
